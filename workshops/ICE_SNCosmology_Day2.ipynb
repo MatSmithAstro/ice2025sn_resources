{
 "cells": [
  {
   "cell_type": "markdown",
   "id": "7fa5a427-f87c-495b-99c6-e075d923160d",
   "metadata": {},
   "source": [
    "## ICE Summer School : SN Cosmology\n",
    " * Notebook developed by Mathew Smith (mat.smith@lancaster.ac.uk)"
   ]
  },
  {
   "cell_type": "markdown",
   "id": "1f25a988-ce65-49d8-aaa3-0576b87ed831",
   "metadata": {},
   "source": [
    "## Part 2: Measuring the cosmological parameters\n",
    "\n",
    " * In Part 1 we determined the distance to SNeIa in the local universe\n",
    " * Today, we will exploit this information to measure the cosmological parameters\n",
    " * The state-of-the-art at high redshift comes from the Dark Energy Survey (DES-5YR). \n",
    " * We will download and exploit this dataset.\n",
    " * We will use the distances derived to these SNe to measure the cosmological parameters    "
   ]
  },
  {
   "cell_type": "markdown",
   "id": "66504387-c124-405a-a19e-60067854b4be",
   "metadata": {},
   "source": [
    "Required libraries: \n",
    " * numpy\n",
    " * pandas\n",
    " * scipy\n",
    " * matplotlib\n",
    " * astropy\n",
    " * scipy\n",
    " * emcee\n",
    " * corner\n",
    " * chainconsumer"
   ]
  },
  {
   "cell_type": "code",
   "execution_count": 1,
   "id": "8958d8c2-44e4-483b-b310-533bb03ca67d",
   "metadata": {},
   "outputs": [],
   "source": [
    "import numpy as np\n",
    "import pandas as pd\n",
    "from scipy import optimize as opt\n",
    "import matplotlib.pyplot as plt\n",
    "from matplotlib.lines import Line2D\n",
    "from astropy.cosmology import Planck18, FlatLambdaCDM, LambdaCDM, FlatwCDM, Flatw0waCDM\n",
    "import emcee\n",
    "import corner\n",
    "from chainconsumer import Chain, ChainConsumer, make_sample, Truth, PlotConfig"
   ]
  },
  {
   "cell_type": "markdown",
   "id": "00b1e7bb-36b4-49be-a212-4e574c79621d",
   "metadata": {},
   "source": [
    "Some simple shortcuts for plotting and calculations"
   ]
  },
  {
   "cell_type": "code",
   "execution_count": 2,
   "id": "f75e0304-d16e-404d-8849-4c7b7070f0e6",
   "metadata": {},
   "outputs": [],
   "source": [
    "fac       = 2.5/np.log(10)\n",
    "dummy_z   = np.linspace(0,1.2,100)\n",
    "#\n",
    "colors    = {'blue':'#194D80', 'yellow':'#F8AD05', 'silver':'#ADADAD', 'green':'#566E3D', 'red':'#A22522'}"
   ]
  },
  {
   "cell_type": "markdown",
   "id": "ee12dc22-3807-44a0-8466-cf11945de4ee",
   "metadata": {},
   "source": [
    "## The data\n",
    "\n",
    "The latest results from DES can be downloaded from:\n",
    " * `https://raw.githubusercontent.com/des-science/DES-SN5YR/main/4_DISTANCES_COVMAT/DES-SN5YR_HD+MetaData.csv`. \n",
    "\n",
    "This dataset contains 1829 SNeIa each with a measured redshift (`zHD`), distance (`MU`) and uncertainty (`MUERR_FINAL`). \n",
    "\n",
    "Distances were derived using: \n",
    " * $\\alpha = 0.16087 \\pm 0.00152$\n",
    " * $\\beta = 3.11780 \\pm 0.03530$\n",
    " * $\\gamma = 0.03754 \\pm 0.00798$\n",
    " * $M0_{avg} = −29.95821$"
   ]
  },
  {
   "cell_type": "code",
   "execution_count": 3,
   "id": "c413851e-4172-4cd1-aa33-b236f8b0ca09",
   "metadata": {},
   "outputs": [
    {
     "data": {
      "text/html": [
       "<div>\n",
       "<style scoped>\n",
       "    .dataframe tbody tr th:only-of-type {\n",
       "        vertical-align: middle;\n",
       "    }\n",
       "\n",
       "    .dataframe tbody tr th {\n",
       "        vertical-align: top;\n",
       "    }\n",
       "\n",
       "    .dataframe thead th {\n",
       "        text-align: right;\n",
       "    }\n",
       "</style>\n",
       "<table border=\"1\" class=\"dataframe\">\n",
       "  <thead>\n",
       "    <tr style=\"text-align: right;\">\n",
       "      <th></th>\n",
       "      <th>CID</th>\n",
       "      <th>CIDint</th>\n",
       "      <th>IDSURVEY</th>\n",
       "      <th>TYPE</th>\n",
       "      <th>zHEL</th>\n",
       "      <th>zHELERR</th>\n",
       "      <th>zCMB</th>\n",
       "      <th>zCMBERR</th>\n",
       "      <th>zHD</th>\n",
       "      <th>zHDERR</th>\n",
       "      <th>...</th>\n",
       "      <th>PROB_SNIRFV19</th>\n",
       "      <th>PROB_SNNDESCC</th>\n",
       "      <th>PROB_SNNJ17</th>\n",
       "      <th>PROB_SNNV19</th>\n",
       "      <th>MU</th>\n",
       "      <th>MUERR_FINAL</th>\n",
       "      <th>PROBCC_BEAMS</th>\n",
       "      <th>biasCor_mu</th>\n",
       "      <th>biasCor_muCOVSCALE</th>\n",
       "      <th>biasCor_muCOVADD</th>\n",
       "    </tr>\n",
       "  </thead>\n",
       "  <tbody>\n",
       "    <tr>\n",
       "      <th>0</th>\n",
       "      <td>1246275</td>\n",
       "      <td>1246275</td>\n",
       "      <td>10</td>\n",
       "      <td>0</td>\n",
       "      <td>0.24651</td>\n",
       "      <td>0.001</td>\n",
       "      <td>0.24605</td>\n",
       "      <td>0.001</td>\n",
       "      <td>0.24605</td>\n",
       "      <td>0.00160</td>\n",
       "      <td>...</td>\n",
       "      <td>0.8486</td>\n",
       "      <td>1.0000</td>\n",
       "      <td>0.9999</td>\n",
       "      <td>1.0000</td>\n",
       "      <td>40.5938</td>\n",
       "      <td>0.0968</td>\n",
       "      <td>0.0</td>\n",
       "      <td>0.0341</td>\n",
       "      <td>1.0</td>\n",
       "      <td>0.0050</td>\n",
       "    </tr>\n",
       "    <tr>\n",
       "      <th>1</th>\n",
       "      <td>1246281</td>\n",
       "      <td>1246281</td>\n",
       "      <td>10</td>\n",
       "      <td>0</td>\n",
       "      <td>0.33600</td>\n",
       "      <td>0.001</td>\n",
       "      <td>0.33549</td>\n",
       "      <td>0.001</td>\n",
       "      <td>0.33549</td>\n",
       "      <td>0.00167</td>\n",
       "      <td>...</td>\n",
       "      <td>1.0000</td>\n",
       "      <td>1.0000</td>\n",
       "      <td>0.9999</td>\n",
       "      <td>1.0000</td>\n",
       "      <td>41.2263</td>\n",
       "      <td>0.1360</td>\n",
       "      <td>0.0</td>\n",
       "      <td>-0.0492</td>\n",
       "      <td>1.0</td>\n",
       "      <td>0.0136</td>\n",
       "    </tr>\n",
       "    <tr>\n",
       "      <th>2</th>\n",
       "      <td>1246314</td>\n",
       "      <td>1246314</td>\n",
       "      <td>10</td>\n",
       "      <td>0</td>\n",
       "      <td>0.38388</td>\n",
       "      <td>0.001</td>\n",
       "      <td>0.38337</td>\n",
       "      <td>0.001</td>\n",
       "      <td>0.38337</td>\n",
       "      <td>0.00171</td>\n",
       "      <td>...</td>\n",
       "      <td>0.7823</td>\n",
       "      <td>0.9993</td>\n",
       "      <td>0.9970</td>\n",
       "      <td>0.9998</td>\n",
       "      <td>41.6383</td>\n",
       "      <td>0.2332</td>\n",
       "      <td>0.0</td>\n",
       "      <td>0.0502</td>\n",
       "      <td>1.0</td>\n",
       "      <td>0.0348</td>\n",
       "    </tr>\n",
       "    <tr>\n",
       "      <th>3</th>\n",
       "      <td>1246527</td>\n",
       "      <td>1246527</td>\n",
       "      <td>10</td>\n",
       "      <td>0</td>\n",
       "      <td>0.32184</td>\n",
       "      <td>0.001</td>\n",
       "      <td>0.32078</td>\n",
       "      <td>0.001</td>\n",
       "      <td>0.32078</td>\n",
       "      <td>0.00166</td>\n",
       "      <td>...</td>\n",
       "      <td>1.0000</td>\n",
       "      <td>0.9997</td>\n",
       "      <td>0.9998</td>\n",
       "      <td>1.0000</td>\n",
       "      <td>41.1991</td>\n",
       "      <td>0.1503</td>\n",
       "      <td>0.0</td>\n",
       "      <td>-0.0511</td>\n",
       "      <td>1.0</td>\n",
       "      <td>0.0173</td>\n",
       "    </tr>\n",
       "    <tr>\n",
       "      <th>4</th>\n",
       "      <td>1246529</td>\n",
       "      <td>1246529</td>\n",
       "      <td>10</td>\n",
       "      <td>0</td>\n",
       "      <td>0.49797</td>\n",
       "      <td>0.001</td>\n",
       "      <td>0.49677</td>\n",
       "      <td>0.001</td>\n",
       "      <td>0.49677</td>\n",
       "      <td>0.00180</td>\n",
       "      <td>...</td>\n",
       "      <td>0.9407</td>\n",
       "      <td>0.9996</td>\n",
       "      <td>0.9993</td>\n",
       "      <td>1.0000</td>\n",
       "      <td>42.1471</td>\n",
       "      <td>0.1618</td>\n",
       "      <td>0.0</td>\n",
       "      <td>-0.0485</td>\n",
       "      <td>1.0</td>\n",
       "      <td>0.0095</td>\n",
       "    </tr>\n",
       "  </tbody>\n",
       "</table>\n",
       "<p>5 rows × 50 columns</p>\n",
       "</div>"
      ],
      "text/plain": [
       "       CID   CIDint  IDSURVEY  TYPE     zHEL  zHELERR     zCMB  zCMBERR  \\\n",
       "0  1246275  1246275        10     0  0.24651    0.001  0.24605    0.001   \n",
       "1  1246281  1246281        10     0  0.33600    0.001  0.33549    0.001   \n",
       "2  1246314  1246314        10     0  0.38388    0.001  0.38337    0.001   \n",
       "3  1246527  1246527        10     0  0.32184    0.001  0.32078    0.001   \n",
       "4  1246529  1246529        10     0  0.49797    0.001  0.49677    0.001   \n",
       "\n",
       "       zHD   zHDERR  ...  PROB_SNIRFV19  PROB_SNNDESCC  PROB_SNNJ17  \\\n",
       "0  0.24605  0.00160  ...         0.8486         1.0000       0.9999   \n",
       "1  0.33549  0.00167  ...         1.0000         1.0000       0.9999   \n",
       "2  0.38337  0.00171  ...         0.7823         0.9993       0.9970   \n",
       "3  0.32078  0.00166  ...         1.0000         0.9997       0.9998   \n",
       "4  0.49677  0.00180  ...         0.9407         0.9996       0.9993   \n",
       "\n",
       "   PROB_SNNV19       MU  MUERR_FINAL  PROBCC_BEAMS  biasCor_mu  \\\n",
       "0       1.0000  40.5938       0.0968           0.0      0.0341   \n",
       "1       1.0000  41.2263       0.1360           0.0     -0.0492   \n",
       "2       0.9998  41.6383       0.2332           0.0      0.0502   \n",
       "3       1.0000  41.1991       0.1503           0.0     -0.0511   \n",
       "4       1.0000  42.1471       0.1618           0.0     -0.0485   \n",
       "\n",
       "   biasCor_muCOVSCALE  biasCor_muCOVADD  \n",
       "0                 1.0            0.0050  \n",
       "1                 1.0            0.0136  \n",
       "2                 1.0            0.0348  \n",
       "3                 1.0            0.0173  \n",
       "4                 1.0            0.0095  \n",
       "\n",
       "[5 rows x 50 columns]"
      ]
     },
     "execution_count": 3,
     "metadata": {},
     "output_type": "execute_result"
    }
   ],
   "source": [
    "df = pd.read_csv(\"https://raw.githubusercontent.com/des-science/DES-SN5YR/main/4_DISTANCES_COVMAT/DES-SN5YR_HD+MetaData.csv\", sep=',')\n",
    "df.head()"
   ]
  },
  {
   "cell_type": "markdown",
   "id": "6ae81279-bb32-42f6-b938-298212e36a23",
   "metadata": {},
   "source": [
    "For this exercise, remove events with low probability of being an SNIa"
   ]
  },
  {
   "cell_type": "code",
   "execution_count": 4,
   "id": "11c4e4b7-3472-4a6a-9066-53ae50a040a9",
   "metadata": {},
   "outputs": [],
   "source": [
    "df         = df[df.PROB_SNNDESCC>0.9]"
   ]
  },
  {
   "cell_type": "markdown",
   "id": "b89f3fc8-5d04-468e-9d53-f5e19f1ec4a6",
   "metadata": {},
   "source": [
    "### Exercise: Make a Hubble Diagram\n",
    "   * Given the dataset, make a plot of redshift ($zHD$) v distance modulus ($\\mu$) including uncertainties\n",
    "   * Using the astropy.cosmology module, plot the residuals from a FlatLCDM model\n",
    "   * Also include the residuals from a FlatwCDM and Flatw0waCDM model with parameter values taken from DES 2025 (https://arxiv.org/pdf/2401.02929)"
   ]
  },
  {
   "cell_type": "markdown",
   "id": "1acf5b5e-a1ee-4a85-bb7e-1affa705d577",
   "metadata": {},
   "source": [
    "***"
   ]
  },
  {
   "cell_type": "markdown",
   "id": "3091ff59-3ee7-45bb-85fd-08dfe415bdf1",
   "metadata": {},
   "source": [
    "## Comparing our data to a cosmological model\n",
    " * To do this we will use an MCMC algorithm (`emcee`)\n",
    " * This requires a function to determine the goodness of fit between the data and model\n",
    " * We will 'minimise the posterior'; this is an extension of a traditional $\\chi^2$ minimisation"
   ]
  },
  {
   "cell_type": "markdown",
   "id": "8afd1eeb-2062-49c7-9534-f75b54492609",
   "metadata": {},
   "source": [
    " * The aim is to minimise the `logposterior`:\n",
    "     * This is the sum of two terms : `loglikelihood` and `logprior`\n",
    "     * i.e. $\\ln \\mathcal{P}(\\theta | x,y) = \\ln \\mathcal{L}(\\theta | x,y) + \\ln \\text{prior}(\\theta)$\n",
    "     * where $\\theta$ are the model parameters being tested, $(x,y)$ is the data we have collected\n",
    " * The `logprior` encodes our knowledge of the _prior_ to collecting the data\n",
    "     * It is therefore independent of the data\n",
    "     * An assumption of a `uniform` (or flat) prior is often taken:\n",
    "        * i.e. all values in parameter space (within a given bound) are equally likely to be true\n",
    "     * We will assume that `(0.25 < $\\Omega_m$ < 0.45)` & `(65. < $H_0$ < 75.)`\n",
    " * The `loglikelihood` measures the goodness of fit between the model and our dataset\n",
    "     * $\\ln \\mathcal{L}(\\theta | x,y) = -0.5 \\times \\left( N\\times\\ln(2\\pi) + \\sum_{i=0}^{N}2\\times\\ln(\\sigma_i) + \\sum_{i=0}^{N} \\left(\\frac{y - f(y,*\\theta)}{\\sigma_i}\\right)^2\\right)$\n",
    "     * _Note_: the final term in this equation is the traditional $\\chi^2$ formula\n"
   ]
  },
  {
   "cell_type": "markdown",
   "id": "9be9aae6-1ff7-4937-9a04-85ca78a450da",
   "metadata": {},
   "source": [
    "### Exercise: \n",
    " * Define the loglikelihood, logprior and logposterior between the DES5YR dataset and a FlatLCDM model\n",
    "     * _Hint_ : If needed likelihood can be simplified to the $\\chi^2$"
   ]
  },
  {
   "cell_type": "markdown",
   "id": "0e1870de-7cfc-4151-9cd3-60bb711ca94e",
   "metadata": {},
   "source": [
    "***"
   ]
  },
  {
   "cell_type": "markdown",
   "id": "c869c9a0-7221-4f92-8ac1-a7bfe6116a6f",
   "metadata": {},
   "source": [
    "## Estimating the cosmological parameters\n",
    " * To do this we will use the `emcee` module: combining our measurements with the posterior code"
   ]
  },
  {
   "cell_type": "markdown",
   "id": "78aacbe0-45b5-4338-a866-bdcf12c96c21",
   "metadata": {},
   "source": [
    "## Exercise: \n",
    " * Use the `emcee` library to produce an MCMC chain for this problem.\n",
    "    * _NB_: 50 walkers, each with 500 steps will be sufficient\n",
    " * Use the `corner` or `chainconsumer` library to visualise the results\n",
    " * Highlight the best-fit value\n",
    " * _Extension_ : Consider the `LambdaCDM` or `FlatwCDM` models"
   ]
  },
  {
   "cell_type": "markdown",
   "id": "73857e69-8449-4c3c-8b72-7f91e2816fde",
   "metadata": {},
   "source": [
    "***"
   ]
  },
  {
   "cell_type": "code",
   "execution_count": null,
   "id": "085f4c02-ee3b-4668-b281-c3387253cde6",
   "metadata": {},
   "outputs": [],
   "source": []
  }
 ],
 "metadata": {
  "kernelspec": {
   "display_name": "Python 3 (ipykernel)",
   "language": "python",
   "name": "python3"
  },
  "language_info": {
   "codemirror_mode": {
    "name": "ipython",
    "version": 3
   },
   "file_extension": ".py",
   "mimetype": "text/x-python",
   "name": "python",
   "nbconvert_exporter": "python",
   "pygments_lexer": "ipython3",
   "version": "3.11.8"
  }
 },
 "nbformat": 4,
 "nbformat_minor": 5
}
